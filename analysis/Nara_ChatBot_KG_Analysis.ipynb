{
 "cells": [
  {
   "cell_type": "markdown",
   "id": "6e6478cd",
   "metadata": {},
   "source": [
    "# Imports and Setup"
   ]
  },
  {
   "cell_type": "code",
   "execution_count": null,
   "id": "80a466c0",
   "metadata": {},
   "outputs": [],
   "source": [
    "import os\n",
    "\n",
    "import matplotlib.pyplot as plt\n",
    "import numpy as np\n",
    "from dotenv import load_dotenv\n",
    "from graphdatascience import GraphDataScience\n",
    "from langchain_community.graphs import Neo4jGraph"
   ]
  },
  {
   "cell_type": "markdown",
   "id": "29a25658",
   "metadata": {},
   "source": [
    "# Load Environment Variables, Initialize Neo4j Graph and Graph Data Science"
   ]
  },
  {
   "cell_type": "code",
   "execution_count": null,
   "id": "f72e089f",
   "metadata": {},
   "outputs": [],
   "source": [
    "load_dotenv(\".env\", override=True)\n",
    "NEO4J_URI = os.getenv(\"NEO4J_URI\")\n",
    "NEO4J_USERNAME = os.getenv(\"NEO4J_USERNAME\")\n",
    "NEO4J_PASSWORD = os.getenv(\"NEO4J_PASSWORD\")\n",
    "NEO4J_DATABASE = os.getenv(\"NEO4J_DATABASE\") or \"neo4j\"\n",
    "\n",
    "kg = Neo4jGraph(\n",
    "    url=NEO4J_URI,\n",
    "    username=NEO4J_USERNAME,\n",
    "    password=NEO4J_PASSWORD,\n",
    "    database=NEO4J_DATABASE,\n",
    "    enhanced_schema=False,\n",
    "    refresh_schema=False,\n",
    ")\n",
    "\n",
    "gds = GraphDataScience(NEO4J_URI, auth=(NEO4J_USERNAME, NEO4J_PASSWORD))"
   ]
  },
  {
   "cell_type": "markdown",
   "id": "d232137a",
   "metadata": {},
   "source": [
    "# Graph Projection\n",
    "In order for any algorithm in the GDS library to run, we must first project a graph to run on. The graph is projected as a named graph."
   ]
  },
  {
   "cell_type": "code",
   "execution_count": null,
   "id": "9b126d2f",
   "metadata": {},
   "outputs": [],
   "source": [
    "graphs = gds.run_cypher(\n",
    "    \"\"\"CALL gds.graph.list() YIELD graphName\n",
    "RETURN graphName\"\"\"\n",
    ")[\"graphName\"].tolist()\n",
    "\n",
    "if \"myGraph\" not in graphs:\n",
    "    labels_list = kg.query(\n",
    "        \"\"\"CALL db.labels() YIELD label\n",
    "        RETURN label\"\"\"\n",
    "    )\n",
    "    labels = [l[\"label\"] for l in labels_list]\n",
    "\n",
    "    relTypes_list = kg.query(\n",
    "        \"\"\"CALL db.relationshipTypes() YIELD relationshipType\n",
    "        RETURN relationshipType\"\"\"\n",
    "    )\n",
    "    relTypes = [r[\"relationshipType\"] for r in relTypes_list]\n",
    "\n",
    "    graph, pd_series = gds.graph.project(\"myGraph\", labels, relTypes)\n",
    "\n",
    "    print(\"Created: 'myGraph'\")"
   ]
  },
  {
   "cell_type": "markdown",
   "id": "d0dc3b6e",
   "metadata": {},
   "source": [
    "# Drop Graph Projection (Commented Out)"
   ]
  },
  {
   "cell_type": "code",
   "execution_count": null,
   "id": "0868e621",
   "metadata": {},
   "outputs": [],
   "source": [
    "# gds.run_cypher(f\"CALL gds.graph.drop('myGraph') YIELD graphName\")"
   ]
  },
  {
   "cell_type": "markdown",
   "id": "9395d36a",
   "metadata": {},
   "source": [
    "# Visualisation Settings"
   ]
  },
  {
   "cell_type": "code",
   "execution_count": null,
   "id": "d3fda9da",
   "metadata": {},
   "outputs": [],
   "source": [
    "def plot_top_nodes(df, score_col=\"Score\", title=\"Top Nodes\", format=\"svg\"):\n",
    "    plt.figure(figsize=(10, 6))\n",
    "    y_pos = np.arange(len(df))\n",
    "    plt.barh(y_pos, df[score_col], align=\"center\", alpha=0.95, color=\"tab:blue\")\n",
    "    rows = [\n",
    "        f\"{name} ({', '.join(labels)})\"\n",
    "        for name, labels in zip(df[\"Name\"], df[\"Labels\"])\n",
    "    ]\n",
    "    plt.yticks(y_pos, rows)\n",
    "    plt.xlabel(score_col)\n",
    "    plt.title(title)\n",
    "    plt.gca().invert_yaxis()\n",
    "    plt.tight_layout()\n",
    "    plt.savefig(\n",
    "        f\"{title.lower().replace(' ', '_')}.{format}\",\n",
    "        dpi=300,\n",
    "        bbox_inches=\"tight\",\n",
    "        format=format,\n",
    "    )\n",
    "    plt.show()"
   ]
  },
  {
   "cell_type": "markdown",
   "id": "e1b8e89a",
   "metadata": {},
   "source": [
    "# Node Labels and Relationship Types Distribution"
   ]
  },
  {
   "cell_type": "code",
   "execution_count": null,
   "id": "9f7cdae7",
   "metadata": {},
   "outputs": [],
   "source": [
    "labels_dist = gds.run_cypher(\n",
    "    \"\"\"MATCH (n) \n",
    "RETURN labels(n) AS Labels, count(*) AS Count \n",
    "ORDER BY Count DESC\"\"\"\n",
    ")\n",
    "\n",
    "labels_dist"
   ]
  },
  {
   "cell_type": "code",
   "execution_count": null,
   "id": "c598f3e5",
   "metadata": {},
   "outputs": [],
   "source": [
    "# labels_dist[\"Labels_Str\"] = labels_dist[\"Labels\"].apply(lambda x: \", \".join(x))\n",
    "\n",
    "# plt.figure(figsize=(max(10, len(labels_dist) * 0.4), 6))\n",
    "# y_pos = np.arange(len(labels_dist))\n",
    "# plt.barh(y_pos, labels_dist[\"Count\"], align=\"center\", alpha=0.95, color=\"tab:blue\")\n",
    "# plt.yticks(y_pos, labels_dist[\"Labels_Str\"])\n",
    "# plt.xlabel(\"Node Count\")\n",
    "# plt.title(\"Node Labels Distribution\")\n",
    "# plt.gca().invert_yaxis()\n",
    "# plt.tight_layout()\n",
    "# plt.show()"
   ]
  },
  {
   "cell_type": "code",
   "execution_count": null,
   "id": "771503e7",
   "metadata": {},
   "outputs": [],
   "source": [
    "labels_dist.to_csv(r\"labels_dist.csv\", index=False, encoding=\"utf-8\")"
   ]
  },
  {
   "cell_type": "code",
   "execution_count": null,
   "id": "c6bbad80",
   "metadata": {},
   "outputs": [],
   "source": [
    "rel_dist = gds.run_cypher(\n",
    "    \"\"\"MATCH ()-[r]->() \n",
    "RETURN type(r) AS RelationshipType, count(*) AS Count \n",
    "ORDER BY Count DESC\"\"\"\n",
    ")\n",
    "\n",
    "rel_dist"
   ]
  },
  {
   "cell_type": "code",
   "execution_count": null,
   "id": "763f2d04",
   "metadata": {},
   "outputs": [],
   "source": [
    "# plt.figure(figsize=(10, 6))\n",
    "# y_pos = np.arange(len(rel_dist))\n",
    "# plt.barh(y_pos, rel_dist[\"Count\"], align=\"center\", alpha=0.95, color=\"tab:blue\")\n",
    "# plt.yticks(y_pos, rel_dist[\"RelationshipType\"])\n",
    "# plt.xlabel(\"Relationship Count\")\n",
    "# plt.title(\"Relationship Types Distribution\")\n",
    "# plt.gca().invert_yaxis()\n",
    "# plt.tight_layout()\n",
    "# plt.show()"
   ]
  },
  {
   "cell_type": "code",
   "execution_count": null,
   "id": "2d69292a",
   "metadata": {},
   "outputs": [],
   "source": [
    "rel_dist.to_csv(r\"rel_dist.csv\", index=False, encoding=\"utf-8\")"
   ]
  },
  {
   "cell_type": "code",
   "execution_count": null,
   "id": "9a651160",
   "metadata": {},
   "outputs": [],
   "source": [
    "missing = gds.run_cypher(\n",
    "    \"\"\"MATCH (n)\n",
    "UNWIND keys(n) AS propertyKey\n",
    "WITH propertyKey, n[propertyKey] AS propertyValue\n",
    "WITH \n",
    "  count(*) AS totalProperties,\n",
    "  count(CASE WHEN propertyValue = 'N/A' THEN 1 END) AS missingProperties\n",
    "RETURN \n",
    "  totalProperties AS TotalProperties,\n",
    "  missingProperties AS MissingProperties,\n",
    "  round(100.0 * missingProperties / totalProperties, 2) AS MissingPercentage\"\"\"\n",
    ")\n",
    "\n",
    "missing"
   ]
  },
  {
   "cell_type": "code",
   "execution_count": null,
   "id": "d08be239",
   "metadata": {},
   "outputs": [],
   "source": [
    "missing.to_csv(r\"missing.csv\", index=False, encoding=\"utf-8\")"
   ]
  },
  {
   "cell_type": "markdown",
   "id": "0a19ad67",
   "metadata": {},
   "source": [
    "# Betweenness Centrality\n",
    "Betweenness centrality is a way of detecting the amount of influence a node has over the flow of information in a graph. It is often used to find nodes that serve as a bridge from one part of a graph to another.\n",
    "\n",
    "The algorithm calculates shortest paths between all pairs of nodes in a graph. Each node receives a score, based on the number of shortest paths that pass through the node. Nodes that more frequently lie on shortest paths between other nodes will have higher betweenness centrality scores.\n",
    "\n",
    "Betweenness centrality is implemented for graphs without weights or with positive weights. The GDS implementation is based on Brandes' approximate algorithm for unweighted graphs. For weighted graphs, multiple concurrent Dijkstra algorithms are used. The implementation requires O(n + m) space and runs in O(n * m) time, where n is the number of nodes and m the number of relationships in the graph."
   ]
  },
  {
   "cell_type": "markdown",
   "id": "fe8aac59",
   "metadata": {},
   "source": [
    "# Stream\n",
    "In the stream execution mode, the algorithm returns the centrality for each node."
   ]
  },
  {
   "cell_type": "code",
   "execution_count": null,
   "id": "f5e163de",
   "metadata": {},
   "outputs": [],
   "source": [
    "betweenness_stream = gds.run_cypher(\n",
    "    \"\"\"CALL gds.betweenness.stream('myGraph')\n",
    "YIELD nodeId, score\n",
    "WITH nodeId, score, gds.util.asNode(nodeId) AS node\n",
    "RETURN \n",
    "    node.chunkId AS Name, \n",
    "    score as Score,\n",
    "    labels(node) AS Labels\n",
    "ORDER BY Score DESC, Name ASC\"\"\"\n",
    ").head(10)\n",
    "\n",
    "betweenness_stream"
   ]
  },
  {
   "cell_type": "code",
   "execution_count": null,
   "id": "7dd91c05",
   "metadata": {},
   "outputs": [],
   "source": [
    "plot_top_nodes(betweenness_stream, title=\"Top 10 Nodes by Betweenness Centrality\")"
   ]
  },
  {
   "cell_type": "markdown",
   "id": "55f30e2f",
   "metadata": {},
   "source": [
    "# Stats\n",
    "In the stats execution mode, the algorithm returns a single row containing a summary of the algorithm result. In particular, Betweenness Centrality returns the minimum, maximum and sum of all centrality scores."
   ]
  },
  {
   "cell_type": "code",
   "execution_count": null,
   "id": "1f48e106",
   "metadata": {},
   "outputs": [],
   "source": [
    "betweenness_stats = gds.run_cypher(\n",
    "    \"\"\"CALL gds.betweenness.stats('myGraph')\n",
    "YIELD centralityDistribution\n",
    "RETURN centralityDistribution.min AS MinimumScore, centralityDistribution.mean AS MeanScore\"\"\"\n",
    ")\n",
    "\n",
    "betweenness_stats"
   ]
  },
  {
   "cell_type": "code",
   "execution_count": null,
   "id": "3e009ed9",
   "metadata": {},
   "outputs": [],
   "source": [
    "betweenness_stats.to_csv(r\"betweenness_stats.csv\", index=False, encoding=\"utf-8\")"
   ]
  },
  {
   "cell_type": "markdown",
   "id": "0329afd1",
   "metadata": {},
   "source": [
    "# Influence Maximization (CELF)\n",
    "The influence maximization problem asks for a set of k nodes that maximize the expected spread of influence in the network. The set of these initial k is called the seed set.\n",
    "\n",
    "The Neo4j GDS Library supports approximate computation of the best seed set under the Independent Cascade propagation model. In this propagation model, initially we assume that the nodes in the seed set become influenced and the process works as follows. An influenced node influences each of its neighbors with probability p. The spread is then the number of nodes that become influenced."
   ]
  },
  {
   "cell_type": "markdown",
   "id": "46e3f672",
   "metadata": {},
   "source": [
    "# Stream\n",
    "In the stream execution mode, the algorithm returns the spread for nodes that are part of the seed set."
   ]
  },
  {
   "cell_type": "code",
   "execution_count": null,
   "id": "6dadab8a",
   "metadata": {},
   "outputs": [],
   "source": [
    "influence_stream = gds.run_cypher(\n",
    "    \"\"\"CALL gds.influenceMaximization.celf.stream('myGraph', {seedSetSize: 10})\n",
    "YIELD nodeId, spread\n",
    "WITH nodeId, spread, gds.util.asNode(nodeId) AS node\n",
    "RETURN \n",
    "    node.chunkId AS Name, \n",
    "    spread as Spread,\n",
    "    labels(node) AS Labels\n",
    "ORDER BY spread DESC, Name ASC\"\"\"\n",
    ")\n",
    "\n",
    "influence_stream"
   ]
  },
  {
   "cell_type": "code",
   "execution_count": null,
   "id": "d8094a18",
   "metadata": {},
   "outputs": [],
   "source": [
    "plot_top_nodes(influence_stream, \"Spread\", \"Top 10 Nodes by Influence Spread\")"
   ]
  },
  {
   "cell_type": "markdown",
   "id": "b9ed233c",
   "metadata": {},
   "source": [
    "# Stats\n",
    "In the stats execution mode, the algorithm returns a single row containing a summary of the algorithm result."
   ]
  },
  {
   "cell_type": "code",
   "execution_count": null,
   "id": "5f8b8518",
   "metadata": {},
   "outputs": [],
   "source": [
    "influence_stats = gds.run_cypher(\n",
    "    \"\"\"CALL gds.influenceMaximization.celf.stats('myGraph', {seedSetSize: 10})\n",
    "YIELD totalSpread as TotalSpread\"\"\"\n",
    ")\n",
    "\n",
    "influence_stats"
   ]
  },
  {
   "cell_type": "code",
   "execution_count": null,
   "id": "83cb87df",
   "metadata": {},
   "outputs": [],
   "source": [
    "influence_stats.to_csv(r\"influence_stats.csv\", index=False, encoding=\"utf-8\")"
   ]
  },
  {
   "cell_type": "markdown",
   "id": "2be15d9d",
   "metadata": {},
   "source": [
    "# Closeness Centrality\n",
    "Closeness centrality is a way of detecting nodes that are able to spread information very efficiently through a graph.\n",
    "\n",
    "The closeness centrality of a node measures its average farness (inverse distance) to all other nodes. Nodes with a high closeness score have the shortest distances to all other nodes.\n",
    "\n",
    "For each node u, the Closeness Centrality algorithm calculates the sum of its distances to all other nodes, based on calculating the shortest paths between all pairs of nodes. The resulting sum is then inverted to determine the closeness centrality score for that node."
   ]
  },
  {
   "cell_type": "markdown",
   "id": "2b562e55",
   "metadata": {},
   "source": [
    "# Stream\n",
    "In the stream execution mode, the algorithm returns the centrality for each node."
   ]
  },
  {
   "cell_type": "code",
   "execution_count": null,
   "id": "4a6921d7",
   "metadata": {},
   "outputs": [],
   "source": [
    "closeness_stream = gds.run_cypher(\n",
    "    \"\"\"CALL gds.closeness.stream('myGraph')\n",
    "YIELD nodeId, score\n",
    "WITH nodeId, score, gds.util.asNode(nodeId) AS node\n",
    "RETURN \n",
    "    node.chunkId AS Name,\n",
    "    score as Score,\n",
    "    labels(node) AS Labels\n",
    "ORDER BY score DESC, Name ASC\"\"\"\n",
    ").head(10)\n",
    "\n",
    "closeness_stream"
   ]
  },
  {
   "cell_type": "code",
   "execution_count": null,
   "id": "48ae901c",
   "metadata": {},
   "outputs": [],
   "source": [
    "plot_top_nodes(closeness_stream, title=\"Top 10 Nodes by Closeness Centrality\")"
   ]
  },
  {
   "cell_type": "markdown",
   "id": "7376f2a6",
   "metadata": {},
   "source": [
    "# Stats\n",
    "In the stats execution mode, the algorithm returns a single row containing a summary of the algorithm result."
   ]
  },
  {
   "cell_type": "code",
   "execution_count": null,
   "id": "64c695f3",
   "metadata": {},
   "outputs": [],
   "source": [
    "closeness_stats = gds.run_cypher(\n",
    "    \"\"\"CALL gds.closeness.stats('myGraph')\n",
    "YIELD centralityDistribution\n",
    "RETURN centralityDistribution.min AS MinimumScore, centralityDistribution.mean AS MeanScore\"\"\"\n",
    ")\n",
    "\n",
    "closeness_stats"
   ]
  },
  {
   "cell_type": "code",
   "execution_count": null,
   "id": "417be88a",
   "metadata": {},
   "outputs": [],
   "source": [
    "closeness_stats.to_csv(r\"closeness_stats.csv\", index=False, encoding=\"utf-8\")"
   ]
  },
  {
   "cell_type": "markdown",
   "id": "0c172cc1",
   "metadata": {},
   "source": [
    "# Degree Centrality\n",
    "The Degree Centrality algorithm can be used to find popular nodes within a graph. The degree centrality measures the number of incoming or outgoing (or both) relationships from a node, which can be defined by the orientation of a relationship projection. If a projection contains directed relationships, only outgoing relationships of a node are counted (the out-degree)."
   ]
  },
  {
   "cell_type": "markdown",
   "id": "200d16a4",
   "metadata": {},
   "source": [
    "# Stream\n",
    "In the stream execution mode, the algorithm returns the degree centrality for each node."
   ]
  },
  {
   "cell_type": "code",
   "execution_count": null,
   "id": "37a92803",
   "metadata": {},
   "outputs": [],
   "source": [
    "degree_stream = gds.run_cypher(\n",
    "    \"\"\"CALL gds.degree.stream('myGraph')\n",
    "YIELD nodeId, score\n",
    "WITH nodeId, score, gds.util.asNode(nodeId) AS node\n",
    "RETURN \n",
    "    node.chunkId AS Name,\n",
    "    score as Score,\n",
    "    labels(node) AS Labels\n",
    "ORDER BY score DESC, Name ASC\"\"\"\n",
    ").head(10)\n",
    "\n",
    "degree_stream"
   ]
  },
  {
   "cell_type": "code",
   "execution_count": null,
   "id": "16d3bf31",
   "metadata": {},
   "outputs": [],
   "source": [
    "plot_top_nodes(degree_stream, title=\"Top 10 Nodes by Degree Centrality\")"
   ]
  },
  {
   "cell_type": "markdown",
   "id": "2874e2f9",
   "metadata": {},
   "source": [
    "# Stats\n",
    "In the stats execution mode, the algorithm returns a single row containing a summary of the algorithm result."
   ]
  },
  {
   "cell_type": "code",
   "execution_count": null,
   "id": "09b46325",
   "metadata": {},
   "outputs": [],
   "source": [
    "degree_stats = gds.run_cypher(\n",
    "    \"\"\"CALL gds.degree.stats('myGraph')\n",
    "YIELD centralityDistribution\n",
    "RETURN centralityDistribution.min AS MinimumScore, centralityDistribution.mean AS MeanScore\"\"\"\n",
    ")\n",
    "\n",
    "degree_stats"
   ]
  },
  {
   "cell_type": "code",
   "execution_count": null,
   "id": "fab42362",
   "metadata": {},
   "outputs": [],
   "source": [
    "degree_stats.to_csv(r\"degree_stats.csv\", index=False, encoding=\"utf-8\")"
   ]
  },
  {
   "cell_type": "markdown",
   "id": "dae96a62",
   "metadata": {},
   "source": [
    "# Eigenvector Centrality\n",
    "Eigenvector Centrality is an algorithm that measures the transitive influence of nodes. Relationships originating from high-scoring nodes contribute more to the score of a node than connections from low-scoring nodes. A high eigenvector score means that a node is connected to many nodes who themselves have high scores.\n",
    "\n",
    "The algorithm computes the eigenvector associated with the largest absolute eigenvalue. To compute that eigenvalue, the algorithm applies the power iteration approach. Within each iteration, the centrality score for each node is derived from the scores of its incoming neighbors. In the power iteration method, the eigenvector is L2-normalized after each iteration, leading to normalized results by default.\n",
    "\n",
    "The PageRank algorithm is a variant of Eigenvector Centrality with an additional jump probability."
   ]
  },
  {
   "cell_type": "markdown",
   "id": "e7f6bd07",
   "metadata": {},
   "source": [
    "# Stream\n",
    "In the stream execution mode, the algorithm returns the score for each node."
   ]
  },
  {
   "cell_type": "code",
   "execution_count": null,
   "id": "10c11add",
   "metadata": {},
   "outputs": [],
   "source": [
    "eigenvector_stream = gds.run_cypher(\n",
    "    \"\"\"CALL gds.eigenvector.stream('myGraph', {maxiterations: 40})\n",
    "YIELD nodeId, score\n",
    "WITH nodeId, score, gds.util.asNode(nodeId) AS node\n",
    "RETURN\n",
    "    node.chunkId AS Name,\n",
    "    score as Score,\n",
    "    labels(node) AS Labels\n",
    "ORDER BY score DESC, Name ASC\"\"\"\n",
    ").head(10)\n",
    "\n",
    "eigenvector_stream"
   ]
  },
  {
   "cell_type": "code",
   "execution_count": null,
   "id": "61a8b03f",
   "metadata": {},
   "outputs": [],
   "source": [
    "plot_top_nodes(eigenvector_stream, title=\"Top 10 Nodes by Eigenvector Centrality\")"
   ]
  },
  {
   "cell_type": "markdown",
   "id": "2c08eff1",
   "metadata": {},
   "source": [
    "# PageRank\n",
    "The PageRank algorithm measures the importance of each node within the graph, based on the number of incoming relationships and the importance of the corresponding source nodes. The underlying assumption roughly speaking is that a page is only as important as the pages that link to it."
   ]
  },
  {
   "cell_type": "markdown",
   "id": "8b439628",
   "metadata": {},
   "source": [
    "# Stream\n",
    "In the stream execution mode, the algorithm returns the score for each node."
   ]
  },
  {
   "cell_type": "code",
   "execution_count": null,
   "id": "68fa4711",
   "metadata": {},
   "outputs": [],
   "source": [
    "pagerank_stream = gds.run_cypher(\n",
    "    \"\"\"CALL gds.pageRank.stream('myGraph', {maxiterations: 40})\n",
    "YIELD nodeId, score\n",
    "WITH nodeId, score, gds.util.asNode(nodeId) AS node\n",
    "RETURN\n",
    "    node.chunkId AS Name,\n",
    "    score as Score,\n",
    "    labels(node) AS Labels\n",
    "ORDER BY score DESC, Name ASC\"\"\"\n",
    ").head(10)\n",
    "\n",
    "pagerank_stream"
   ]
  },
  {
   "cell_type": "code",
   "execution_count": null,
   "id": "f2afd4c8",
   "metadata": {},
   "outputs": [],
   "source": [
    "plot_top_nodes(pagerank_stream, title=\"Top 10 Nodes by PageRank\")"
   ]
  },
  {
   "cell_type": "markdown",
   "id": "349cb278",
   "metadata": {},
   "source": [
    "# Harmonic Centrality\n",
    "Harmonic centrality was proposed by Marchiori and Latora in Harmony in the Small World while trying to come up with a sensible notion of \"average shortest path\".\n",
    "\n",
    "They suggested a different way of calculating the average distance to that used in the Closeness Centrality algorithm. Rather than summing the distances of a node to all other nodes, the harmonic centrality algorithm sums the inverse of those distances. This enables it deal with infinite values."
   ]
  },
  {
   "cell_type": "markdown",
   "id": "dd2427ca",
   "metadata": {},
   "source": [
    "# Stream\n",
    "In the stream execution mode, the algorithm returns the score for each node."
   ]
  },
  {
   "cell_type": "code",
   "execution_count": null,
   "id": "7b4904f3",
   "metadata": {},
   "outputs": [],
   "source": [
    "harmonic_stream = gds.run_cypher(\n",
    "    \"\"\"CALL gds.closeness.harmonic.stream('myGraph')\n",
    "YIELD nodeId, score\n",
    "WITH nodeId, score, gds.util.asNode(nodeId) AS node\n",
    "RETURN\n",
    "    node.chunkId AS Name,\n",
    "    score as Score,\n",
    "    labels(node) AS Labels\n",
    "ORDER BY score DESC, Name ASC\"\"\"\n",
    ").head(10)\n",
    "\n",
    "harmonic_stream"
   ]
  },
  {
   "cell_type": "code",
   "execution_count": null,
   "id": "13501b52",
   "metadata": {},
   "outputs": [],
   "source": [
    "plot_top_nodes(harmonic_stream, title=\"Top 10 Nodes by Harmonic Centrality\")"
   ]
  }
 ],
 "metadata": {
  "kernelspec": {
   "display_name": "venv (3.13.6)",
   "language": "python",
   "name": "python3"
  },
  "language_info": {
   "codemirror_mode": {
    "name": "ipython",
    "version": 3
   },
   "file_extension": ".py",
   "mimetype": "text/x-python",
   "name": "python",
   "nbconvert_exporter": "python",
   "pygments_lexer": "ipython3",
   "version": "3.13.6"
  }
 },
 "nbformat": 4,
 "nbformat_minor": 5
}
